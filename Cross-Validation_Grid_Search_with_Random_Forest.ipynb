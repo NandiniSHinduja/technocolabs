{
 "cells": [
  {
   "cell_type": "markdown",
   "metadata": {},
   "source": [
    "**Run the following two cells before you begin.**"
   ]
  },
  {
   "cell_type": "code",
   "execution_count": 1,
   "metadata": {},
   "outputs": [
    {
     "data": {
      "application/javascript": [
       "IPython.notebook.set_autosave_interval(10000)"
      ]
     },
     "metadata": {},
     "output_type": "display_data"
    },
    {
     "name": "stdout",
     "output_type": "stream",
     "text": [
      "Autosaving every 10 seconds\n"
     ]
    }
   ],
   "source": [
    "%autosave 10"
   ]
  },
  {
   "cell_type": "code",
   "execution_count": 3,
   "metadata": {},
   "outputs": [],
   "source": [
    "import pandas as pd\n",
    "import numpy as np\n",
    "import matplotlib.pyplot as plt\n",
    "\n",
    "%matplotlib inline\n",
    "\n",
    "df = pd.read_csv(r\"C:\\Users\\ekta hinduja\\Downloads\\Data_Exploration_and_Cleaning\\cleaned_data.csv\")"
   ]
  },
  {
   "cell_type": "markdown",
   "metadata": {},
   "source": [
    "**Run the following 3 cells to create a list of features, create a train/test split, and instantiate a random forest classifier.**"
   ]
  },
  {
   "cell_type": "code",
   "execution_count": 4,
   "metadata": {},
   "outputs": [
    {
     "data": {
      "text/plain": [
       "['LIMIT_BAL',\n",
       " 'EDUCATION',\n",
       " 'MARRIAGE',\n",
       " 'AGE',\n",
       " 'PAY_1',\n",
       " 'BILL_AMT1',\n",
       " 'BILL_AMT2',\n",
       " 'BILL_AMT3',\n",
       " 'BILL_AMT4',\n",
       " 'BILL_AMT5',\n",
       " 'BILL_AMT6',\n",
       " 'PAY_AMT1',\n",
       " 'PAY_AMT2',\n",
       " 'PAY_AMT3',\n",
       " 'PAY_AMT4',\n",
       " 'PAY_AMT5',\n",
       " 'PAY_AMT6',\n",
       " 'default payment next month']"
      ]
     },
     "execution_count": 4,
     "metadata": {},
     "output_type": "execute_result"
    }
   ],
   "source": [
    "features_response = df.columns.tolist()\n",
    "items_to_remove = ['ID', 'SEX', 'PAY_2', 'PAY_3', 'PAY_4', 'PAY_5', 'PAY_6',\n",
    "                   'EDUCATION_CAT', 'graduate school', 'high school', 'none',\n",
    "                   'others', 'university']\n",
    "features_response = [item for item in features_response if item not in items_to_remove]\n",
    "features_response"
   ]
  },
  {
   "cell_type": "code",
   "execution_count": 5,
   "metadata": {},
   "outputs": [],
   "source": [
    "from sklearn.model_selection import train_test_split\n",
    "\n",
    "X_train, X_test, y_train, y_test = train_test_split(\n",
    "    df[features_response[:-1]].values,\n",
    "    df['default payment next month'].values,\n",
    "    test_size=0.2, random_state=24\n",
    ")"
   ]
  },
  {
   "cell_type": "code",
   "execution_count": 6,
   "metadata": {},
   "outputs": [],
   "source": [
    "from sklearn.ensemble import RandomForestClassifier\n",
    "\n",
    "rf = RandomForestClassifier(\n",
    "    n_estimators=10, criterion='gini', max_depth=3,\n",
    "    min_samples_split=2, min_samples_leaf=1, min_weight_fraction_leaf=0.0,\n",
    "    max_features='auto', max_leaf_nodes=None, min_impurity_decrease=0.0,\n",
    "    min_impurity_split=None, bootstrap=True, oob_score=False, n_jobs=None,\n",
    "    random_state=4, verbose=0, warm_start=False, class_weight=None\n",
    ")"
   ]
  },
  {
   "cell_type": "markdown",
   "metadata": {},
   "source": [
    "**Create a dictionary representing the grid for the `max_depth` and `n_estimators` hyperparameters that will be searched. Include depths of 3, 6, 9, and 12, and 10, 50, 100, and 200 trees.**"
   ]
  },
  {
   "cell_type": "code",
   "execution_count": 7,
   "metadata": {},
   "outputs": [],
   "source": [
    "grid={'max_depth':[3,6,9,12],'n_estimators':[10,50,100,200]}\n"
   ]
  },
  {
   "cell_type": "markdown",
   "metadata": {},
   "source": [
    "________________________________________________________________\n",
    "**Instantiate a `GridSearchCV` object using the same options that we have previously in this course, but with the dictionary of hyperparameters created above. Set `verbose=2` to see the output for each fit performed.**"
   ]
  },
  {
   "cell_type": "code",
   "execution_count": 8,
   "metadata": {},
   "outputs": [],
   "source": [
    "from sklearn.model_selection import GridSearchCV\n",
    "a=GridSearchCV(rf, param_grid=grid, scoring='accuracy',\n",
    "                            n_jobs=-1, iid=False, refit=True,\n",
    "                            cv=4, verbose=2, error_score=np.nan, return_train_score=True)\n"
   ]
  },
  {
   "cell_type": "markdown",
   "metadata": {},
   "source": [
    "____________________________________________________\n",
    "**Fit the `GridSearchCV` object on the training data.**"
   ]
  },
  {
   "cell_type": "code",
   "execution_count": 9,
   "metadata": {},
   "outputs": [
    {
     "name": "stdout",
     "output_type": "stream",
     "text": [
      "Fitting 4 folds for each of 16 candidates, totalling 64 fits\n"
     ]
    },
    {
     "name": "stderr",
     "output_type": "stream",
     "text": [
      "[Parallel(n_jobs=-1)]: Using backend LokyBackend with 4 concurrent workers.\n",
      "[Parallel(n_jobs=-1)]: Done  33 tasks      | elapsed:  1.4min\n",
      "[Parallel(n_jobs=-1)]: Done  64 out of  64 | elapsed:  3.0min finished\n"
     ]
    },
    {
     "data": {
      "text/plain": [
       "GridSearchCV(cv=4, error_score=nan,\n",
       "             estimator=RandomForestClassifier(bootstrap=True, class_weight=None,\n",
       "                                              criterion='gini', max_depth=3,\n",
       "                                              max_features='auto',\n",
       "                                              max_leaf_nodes=None,\n",
       "                                              min_impurity_decrease=0.0,\n",
       "                                              min_impurity_split=None,\n",
       "                                              min_samples_leaf=1,\n",
       "                                              min_samples_split=2,\n",
       "                                              min_weight_fraction_leaf=0.0,\n",
       "                                              n_estimators=10, n_jobs=None,\n",
       "                                              oob_score=False, random_state=4,\n",
       "                                              verbose=0, warm_start=False),\n",
       "             iid=False, n_jobs=-1,\n",
       "             param_grid={'max_depth': [3, 6, 9, 12],\n",
       "                         'n_estimators': [10, 50, 100, 200]},\n",
       "             pre_dispatch='2*n_jobs', refit=True, return_train_score=True,\n",
       "             scoring='accuracy', verbose=2)"
      ]
     },
     "execution_count": 9,
     "metadata": {},
     "output_type": "execute_result"
    }
   ],
   "source": [
    "a.fit(X_train, y_train)\n"
   ]
  },
  {
   "cell_type": "markdown",
   "metadata": {},
   "source": [
    "___________________________________________________________\n",
    "**Put the results of the grid search in a pandas DataFrame.**"
   ]
  },
  {
   "cell_type": "code",
   "execution_count": 10,
   "metadata": {
    "scrolled": true
   },
   "outputs": [
    {
     "data": {
      "text/plain": [
       "array([1, 1, 0, ..., 0, 0, 1], dtype=int64)"
      ]
     },
     "execution_count": 10,
     "metadata": {},
     "output_type": "execute_result"
    }
   ],
   "source": [
    "y_pred = a.predict(X_test)\n",
    "y_pred\n"
   ]
  },
  {
   "cell_type": "markdown",
   "metadata": {},
   "source": [
    "**Find the best hyperparameters from the cross-validation.**"
   ]
  },
  {
   "cell_type": "code",
   "execution_count": 11,
   "metadata": {},
   "outputs": [
    {
     "name": "stdout",
     "output_type": "stream",
     "text": [
      "{'max_depth': 12, 'n_estimators': 100}\n"
     ]
    }
   ],
   "source": [
    "print(a.best_params_)\n"
   ]
  },
  {
   "cell_type": "markdown",
   "metadata": {},
   "source": [
    "________________________________________________________________________________________________________\n",
    "**Create a `pcolormesh` visualization of the mean testing score for each combination of hyperparameters.**\n",
    "\n",
    "<details>\n",
    "    <summary>Hint:</summary>\n",
    "    Remember to reshape the values of the mean testing scores to be a two-dimensional 4x4 grid.\n",
    "</details>"
   ]
  },
  {
   "cell_type": "code",
   "execution_count": 12,
   "metadata": {},
   "outputs": [
    {
     "data": {
      "text/plain": [
       "array([0.81885526, 0.813417  , 0.81252614, 0.81482346, 0.81974595,\n",
       "       0.82030853, 0.82040231, 0.82040232, 0.81810509, 0.82054294,\n",
       "       0.82077736, 0.82040231, 0.81618313, 0.81993338, 0.82105861,\n",
       "       0.82096482])"
      ]
     },
     "execution_count": 12,
     "metadata": {},
     "output_type": "execute_result"
    }
   ],
   "source": [
    "# Create a 5x5 grid\n",
    "means = a.cv_results_['mean_test_score']\n",
    "means=np.array(means)\n",
    "grid1=np.array([[3,6,9,12],[10,50,100,200]])\n",
    "means\n",
    "\n"
   ]
  },
  {
   "cell_type": "code",
   "execution_count": null,
   "metadata": {},
   "outputs": [],
   "source": [
    "# Set color map to `plt.cm.jet`\n"
   ]
  },
  {
   "cell_type": "code",
   "execution_count": 13,
   "metadata": {
    "eid": "f0c62"
   },
   "outputs": [
    {
     "data": {
      "image/png": "[encoded data removed]",
      "text/plain": [
       "<Figure size 432x288 with 1 Axes>"
      ]
     },
     "metadata": {
      "needs_background": "light"
     },
     "output_type": "display_data"
    }
   ],
   "source": [
    "# Visualize pcolormesh\n",
    "plt.title('Visualizing the data', fontweight =\"bold\") \n",
    "plt.show()\n"
   ]
  },
  {
   "cell_type": "markdown",
   "metadata": {},
   "source": [
    "________________________________________________________________________________________________________\n",
    "**Conclude which set of hyperparameters to use.**"
   ]
  },
  {
   "cell_type": "code",
   "execution_count": 14,
   "metadata": {},
   "outputs": [
    {
     "data": {
      "text/plain": [
       "RandomForestClassifier(bootstrap=True, class_weight=None, criterion='gini',\n",
       "                       max_depth=3, max_features='auto', max_leaf_nodes=None,\n",
       "                       min_impurity_decrease=0.0, min_impurity_split=None,\n",
       "                       min_samples_leaf=1, min_samples_split=2,\n",
       "                       min_weight_fraction_leaf=0.0, n_estimators=10,\n",
       "                       n_jobs=None, oob_score=False, random_state=4, verbose=0,\n",
       "                       warm_start=False)"
      ]
     },
     "execution_count": 14,
     "metadata": {},
     "output_type": "execute_result"
    }
   ],
   "source": [
    "rf.fit(X_train,y_train)\n"
   ]
  },
  {
   "cell_type": "code",
   "execution_count": 15,
   "metadata": {},
   "outputs": [
    {
     "name": "stdout",
     "output_type": "stream",
     "text": [
      "Feature: 0, Score: 0.03580\n",
      "Feature: 1, Score: 0.00455\n",
      "Feature: 2, Score: 0.00000\n",
      "Feature: 3, Score: 0.00000\n",
      "Feature: 4, Score: 0.72728\n",
      "Feature: 5, Score: 0.01197\n",
      "Feature: 6, Score: 0.00000\n",
      "Feature: 7, Score: 0.00708\n",
      "Feature: 8, Score: 0.01193\n",
      "Feature: 9, Score: 0.01857\n",
      "Feature: 10, Score: 0.00425\n",
      "Feature: 11, Score: 0.07646\n",
      "Feature: 12, Score: 0.02406\n",
      "Feature: 13, Score: 0.03395\n",
      "Feature: 14, Score: 0.01902\n",
      "Feature: 15, Score: 0.00620\n",
      "Feature: 16, Score: 0.01887\n"
     ]
    },
    {
     "data": {
      "image/png": "[encoded data removed]",
      "text/plain": [
       "<Figure size 432x288 with 1 Axes>"
      ]
     },
     "metadata": {
      "needs_background": "light"
     },
     "output_type": "display_data"
    }
   ],
   "source": [
    "# Create a dataframe of the feature names and importance\n",
    "importance = rf.feature_importances_\n",
    "# summarize feature importance\n",
    "for i,v in enumerate(importance):\n",
    "\tprint('Feature: %0d, Score: %.5f' % (i,v))\n",
    "# plot feature importance\n",
    "plt.bar([x for x in range(len(importance))], importance)\n",
    "plt.show()\n"
   ]
  },
  {
   "cell_type": "code",
   "execution_count": 16,
   "metadata": {},
   "outputs": [
    {
     "data": {
      "text/plain": [
       "array([0.        , 0.        , 0.        , 0.00425207, 0.00455407,\n",
       "       0.00620446, 0.00708062, 0.01192769, 0.01196955, 0.01856792,\n",
       "       0.01887171, 0.01901978, 0.02406221, 0.03395119, 0.03579668,\n",
       "       0.07645899, 0.72728305])"
      ]
     },
     "execution_count": 16,
     "metadata": {},
     "output_type": "execute_result"
    }
   ],
   "source": [
    "# Sort values by importance\n",
    "importance.sort()\n",
    "importance\n"
   ]
  },
  {
   "cell_type": "code",
   "execution_count": 17,
   "metadata": {},
   "outputs": [
    {
     "name": "stdout",
     "output_type": "stream",
     "text": [
      "Help on function pcolormesh in module matplotlib.pyplot:\n",
      "\n",
      "pcolormesh(*args, alpha=None, norm=None, cmap=None, vmin=None, vmax=None, shading='flat', antialiased=False, data=None, **kwargs)\n",
      "    Create a pseudocolor plot with a non-regular rectangular grid.\n",
      "    \n",
      "    Call signature::\n",
      "    \n",
      "        pcolor([X, Y,] C, **kwargs)\n",
      "    \n",
      "    *X* and *Y* can be used to specify the corners of the quadrilaterals.\n",
      "    \n",
      "    .. note::\n",
      "    \n",
      "       ``pcolormesh()`` is similar to :func:`~Axes.pcolor`. It's much\n",
      "       faster and preferred in most cases. For a detailed discussion on\n",
      "       the differences see\n",
      "       :ref:`Differences between pcolor() and pcolormesh()\n",
      "       <differences-pcolor-pcolormesh>`.\n",
      "    \n",
      "    Parameters\n",
      "    ----------\n",
      "    C : array_like\n",
      "        A scalar 2-D array. The values will be color-mapped.\n",
      "    \n",
      "    X, Y : array_like, optional\n",
      "        The coordinates of the quadrilateral corners. The quadrilateral\n",
      "        for ``C[i,j]`` has corners at::\n",
      "    \n",
      "            (X[i+1, j], Y[i+1, j])          (X[i+1, j+1], Y[i+1, j+1])\n",
      "                                  +--------+\n",
      "                                  | C[i,j] |\n",
      "                                  +--------+\n",
      "                (X[i, j], Y[i, j])          (X[i, j+1], Y[i, j+1]),\n",
      "    \n",
      "        Note that the column index corresponds to the\n",
      "        x-coordinate, and the row index corresponds to y. For\n",
      "        details, see the :ref:`Notes <axes-pcolormesh-grid-orientation>`\n",
      "        section below.\n",
      "    \n",
      "        The dimensions of *X* and *Y* should be one greater than those of\n",
      "        *C*. Alternatively, *X*, *Y* and *C* may have equal dimensions, in\n",
      "        which case the last row and column of *C* will be ignored.\n",
      "    \n",
      "        If *X* and/or *Y* are 1-D arrays or column vectors they will be\n",
      "        expanded as needed into the appropriate 2-D arrays, making a\n",
      "        rectangular grid.\n",
      "    \n",
      "    cmap : str or `~matplotlib.colors.Colormap`, optional\n",
      "        A Colormap instance or registered colormap name. The colormap\n",
      "        maps the *C* values to colors. Defaults to :rc:`image.cmap`.\n",
      "    \n",
      "    norm : `~matplotlib.colors.Normalize`, optional\n",
      "        The Normalize instance scales the data values to the canonical\n",
      "        colormap range [0, 1] for mapping to colors. By default, the data\n",
      "        range is mapped to the colorbar range using linear scaling.\n",
      "    \n",
      "    vmin, vmax : scalar, optional, default: None\n",
      "        The colorbar range. If *None*, suitable min/max values are\n",
      "        automatically chosen by the `~.Normalize` instance (defaults to\n",
      "        the respective min/max values of *C* in case of the default linear\n",
      "        scaling).\n",
      "    \n",
      "    edgecolors : {'none', None, 'face', color, color sequence}, optional\n",
      "        The color of the edges. Defaults to 'none'. Possible values:\n",
      "    \n",
      "        - 'none' or '': No edge.\n",
      "        - *None*: :rc:`patch.edgecolor` will be used. Note that currently\n",
      "          :rc:`patch.force_edgecolor` has to be True for this to work.\n",
      "        - 'face': Use the adjacent face color.\n",
      "        - An mpl color or sequence of colors will set the edge color.\n",
      "    \n",
      "        The singular form *edgecolor* works as an alias.\n",
      "    \n",
      "    alpha : scalar, optional, default: None\n",
      "        The alpha blending value, between 0 (transparent) and 1 (opaque).\n",
      "    \n",
      "    shading : {'flat', 'gouraud'}, optional\n",
      "        The fill style, Possible values:\n",
      "    \n",
      "        - 'flat': A solid color is used for each quad. The color of the\n",
      "          quad (i, j), (i+1, j), (i, j+1), (i+1, j+1) is given by\n",
      "          ``C[i,j]``.\n",
      "        - 'gouraud': Each quad will be Gouraud shaded: The color of the\n",
      "          corners (i', j') are given by ``C[i',j']``. The color values of\n",
      "          the area in between is interpolated from the corner values.\n",
      "          When Gouraud shading is used, *edgecolors* is ignored.\n",
      "    \n",
      "    snap : bool, optional, default: False\n",
      "        Whether to snap the mesh to pixel boundaries.\n",
      "    \n",
      "    Returns\n",
      "    -------\n",
      "    mesh : `matplotlib.collections.QuadMesh`\n",
      "    \n",
      "    Other Parameters\n",
      "    ----------------\n",
      "    **kwargs\n",
      "        Additionally, the following arguments are allowed. They are passed\n",
      "        along to the `~matplotlib.collections.QuadMesh` constructor:\n",
      "    \n",
      "      agg_filter: a filter function, which takes a (m, n, 3) float array and a dpi value, and returns a (m, n, 3) array\n",
      "      alpha: float or None\n",
      "      animated: bool\n",
      "      antialiased or aa or antialiaseds: bool or sequence of bools\n",
      "      array: ndarray\n",
      "      capstyle: {'butt', 'round', 'projecting'}\n",
      "      clim: a length 2 sequence of floats; may be overridden in methods that have ``vmin`` and ``vmax`` kwargs.\n",
      "      clip_box: `.Bbox`\n",
      "      clip_on: bool\n",
      "      clip_path: [(`~matplotlib.path.Path`, `.Transform`) | `.Patch` | None]\n",
      "      cmap: colormap or registered colormap name\n",
      "      color: color or sequence of rgba tuples\n",
      "      contains: callable\n",
      "      edgecolor or ec or edgecolors: color or sequence of colors or 'face'\n",
      "      facecolor or facecolors or fc: color or sequence of colors\n",
      "      figure: `.Figure`\n",
      "      gid: str\n",
      "      hatch: {'/', '\\\\', '|', '-', '+', 'x', 'o', 'O', '.', '*'}\n",
      "      in_layout: bool\n",
      "      joinstyle: {'miter', 'round', 'bevel'}\n",
      "      label: object\n",
      "      linestyle or dashes or linestyles or ls: {'-', '--', '-.', ':', '', (offset, on-off-seq), ...}\n",
      "      linewidth or linewidths or lw: float or sequence of floats\n",
      "      norm: `.Normalize`\n",
      "      offset_position: {'screen', 'data'}\n",
      "      offsets: float or sequence of floats\n",
      "      path_effects: `.AbstractPathEffect`\n",
      "      picker: None or bool or float or callable\n",
      "      pickradius: unknown\n",
      "      rasterized: bool or None\n",
      "      sketch_params: (scale: float, length: float, randomness: float)\n",
      "      snap: bool or None\n",
      "      transform: `.Transform`\n",
      "      url: str\n",
      "      urls: List[str] or None\n",
      "      visible: bool\n",
      "      zorder: float\n",
      "    \n",
      "    \n",
      "    See Also\n",
      "    --------\n",
      "    pcolor : An alternative implementation with slightly different\n",
      "        features. For a detailed discussion on the differences see\n",
      "        :ref:`Differences between pcolor() and pcolormesh()\n",
      "        <differences-pcolor-pcolormesh>`.\n",
      "    imshow : If *X* and *Y* are each equidistant, `~.Axes.imshow` can be a\n",
      "        faster alternative.\n",
      "    \n",
      "    Notes\n",
      "    -----\n",
      "    \n",
      "    **Masked arrays**\n",
      "    \n",
      "    *C* may be a masked array. If ``C[i, j]`` is masked, the corresponding\n",
      "    quadrilateral will be transparent. Masking of *X* and *Y* is not\n",
      "    supported. Use `~.Axes.pcolor` if you need this functionality.\n",
      "    \n",
      "    .. _axes-pcolormesh-grid-orientation:\n",
      "    \n",
      "    **Grid orientation**\n",
      "    \n",
      "    The grid orientation follows the standard matrix convention: An array\n",
      "    *C* with shape (nrows, ncolumns) is plotted with the column number as\n",
      "    *X* and the row number as *Y*.\n",
      "    \n",
      "    .. _differences-pcolor-pcolormesh:\n",
      "    \n",
      "    **Differences between pcolor() and pcolormesh()**\n",
      "    \n",
      "    Both methods are used to create a pseudocolor plot of a 2-D array\n",
      "    using quadrilaterals.\n",
      "    \n",
      "    The main difference lies in the created object and internal data\n",
      "    handling:\n",
      "    While `~.Axes.pcolor` returns a `.PolyCollection`, `~.Axes.pcolormesh`\n",
      "    returns a `.QuadMesh`. The latter is more specialized for the given\n",
      "    purpose and thus is faster. It should almost always be preferred.\n",
      "    \n",
      "    There is also a slight difference in the handling of masked arrays.\n",
      "    Both `~.Axes.pcolor` and `~.Axes.pcolormesh` support masked arrays\n",
      "    for *C*. However, only `~.Axes.pcolor` supports masked arrays for *X*\n",
      "    and *Y*. The reason lies in the internal handling of the masked values.\n",
      "    `~.Axes.pcolor` leaves out the respective polygons from the\n",
      "    PolyCollection. `~.Axes.pcolormesh` sets the facecolor of the masked\n",
      "    elements to transparent. You can see the difference when using\n",
      "    edgecolors. While all edges are drawn irrespective of masking in a\n",
      "    QuadMesh, the edge between two adjacent masked quadrilaterals in\n",
      "    `~.Axes.pcolor` is not drawn as the corresponding polygons do not\n",
      "    exist in the PolyCollection.\n",
      "    \n",
      "    Another difference is the support of Gouraud shading in\n",
      "    `~.Axes.pcolormesh`, which is not available with `~.Axes.pcolor`.\n",
      "    \n",
      "    .. note::\n",
      "        In addition to the above described arguments, this function can take a\n",
      "        **data** keyword argument. If such a **data** argument is given, the\n",
      "        following arguments are replaced by **data[<arg>]**:\n",
      "    \n",
      "        * All positional and all keyword arguments.\n",
      "    \n",
      "        Objects passed as **data** must support item access (``data[<arg>]``) and\n",
      "        membership test (``<arg> in data``).\n",
      "\n"
     ]
    }
   ],
   "source": [
    "help(plt.pcolormesh)\n"
   ]
  },
  {
   "cell_type": "code",
   "execution_count": null,
   "metadata": {},
   "outputs": [],
   "source": []
  }
 ],
 "metadata": {
  "kernelspec": {
   "display_name": "Python 3",
   "language": "python",
   "name": "python3"
  },
  "language_info": {
   "codemirror_mode": {
    "name": "ipython",
    "version": 3
   },
   "file_extension": ".py",
   "mimetype": "text/x-python",
   "name": "python",
   "nbconvert_exporter": "python",
   "pygments_lexer": "ipython3",
   "version": "3.7.4"
  }
 },
 "nbformat": 4,
 "nbformat_minor": 2
}
